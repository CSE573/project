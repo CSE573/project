{
 "cells": [
  {
   "cell_type": "code",
   "execution_count": 2,
   "id": "a457c7e7-ba97-474f-a4e9-662077f3ff63",
   "metadata": {
    "tags": []
   },
   "outputs": [],
   "source": [
    "import pandas as pd\n",
    "import numpy as np\n",
    "import matplotlib.pyplot as plt\n",
    "import seaborn as sns\n",
    "import pickle\n",
    "\n",
    "from sklearn.preprocessing import LabelEncoder, StandardScaler"
   ]
  },
  {
   "cell_type": "code",
   "execution_count": 3,
   "id": "a855cb91-6b3f-4162-a7f9-b9d86b6d5c85",
   "metadata": {
    "tags": []
   },
   "outputs": [
    {
     "name": "stdout",
     "output_type": "stream",
     "text": [
      "        step  customer  age  gender  merchant  category    amount  fraud\n",
      "0          0       210    4       2        30        12 -0.299276      0\n",
      "1          0      2753    2       2        30        12  0.016067      0\n",
      "2          0      2285    4       1        18        12 -0.098742      0\n",
      "3          0      1650    3       2        30        12 -0.185275      0\n",
      "4          0      3585    5       2        30        12 -0.019480      0\n",
      "...      ...       ...  ...     ...       ...       ...       ...    ...\n",
      "594638   179      1639    3       1        18        12 -0.155832      0\n",
      "594639   179      3369    4       1        18        12  0.115256      0\n",
      "594640   179       529    2       1        31         2 -0.138687      0\n",
      "594641   179      1083    5       2        18        12 -0.210319      0\n",
      "594642   179      3304    4       1        18        12 -0.098383      0\n",
      "\n",
      "[594643 rows x 8 columns]\n"
     ]
    }
   ],
   "source": [
    "file_path = '../../data/transactions.pkl'\n",
    "\n",
    "with open(file_path, 'rb') as file:\n",
    "    data = pickle.load(file)\n",
    "\n",
    "# Now `data` holds the contents of the loaded .pkl file\n",
    "print(data)"
   ]
  },
  {
   "cell_type": "code",
   "execution_count": null,
   "id": "21f350bd-06be-4996-b8b5-87bb204d57ae",
   "metadata": {},
   "outputs": [],
   "source": []
  }
 ],
 "metadata": {
  "kernelspec": {
   "display_name": "Python 3 (ipykernel)",
   "language": "python",
   "name": "python3"
  },
  "language_info": {
   "codemirror_mode": {
    "name": "ipython",
    "version": 3
   },
   "file_extension": ".py",
   "mimetype": "text/x-python",
   "name": "python",
   "nbconvert_exporter": "python",
   "pygments_lexer": "ipython3",
   "version": "3.11.5"
  }
 },
 "nbformat": 4,
 "nbformat_minor": 5
}
