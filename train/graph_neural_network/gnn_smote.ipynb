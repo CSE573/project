{
 "cells": [
  {
   "cell_type": "code",
   "execution_count": null,
   "metadata": {},
   "outputs": [],
   "source": [
    "import torch\n",
    "import pandas as pd\n",
    "import numpy as np\n",
    "import networkx as nx\n",
    "import matplotlib.pyplot as plt\n",
    "import seaborn as sns\n",
    "\n",
    "from imblearn.over_sampling import SMOTE\n",
    "from sklearn.model_selection import train_test_split\n",
    "\n",
    "from sklearn.metrics import confusion_matrix, classification_report, roc_curve, auc, precision_recall_curve, average_precision_score"
   ]
  },
  {
   "cell_type": "code",
   "execution_count": null,
   "metadata": {},
   "outputs": [],
   "source": [
    "data = pd.read_pickle(\"../data/transactions.pkl\")\n",
    "\n",
    "X = data.drop(['fraud'],axis=1)\n",
    "y = data['fraud']"
   ]
  },
  {
   "cell_type": "code",
   "execution_count": null,
   "metadata": {},
   "outputs": [],
   "source": [
    "X_temp, X_test, y_temp, y_test = train_test_split(X, y, test_size=0.2, random_state=42)\n",
    "X_train, X_valid, y_train, y_valid = train_test_split(X_temp, y_temp, test_size=0.25, random_state=42)\n",
    "\n",
    "sm = SMOTE(random_state=42)\n",
    "X_res, y_res = sm.fit_resample(X_train, y_train)\n",
    "\n",
    "print(f\"Training set size: {X_train.shape[0]} samples\")\n",
    "print(f\"Resampled set size: {X_res.shape[0]} samples\")\n",
    "print(f\"Validation set size: {X_valid.shape[0]} samples\")\n",
    "print(f\"Testing set size: {X_test.shape[0]} samples\")"
   ]
  },
  {
   "cell_type": "code",
   "execution_count": null,
   "metadata": {},
   "outputs": [],
   "source": [
    "X_train_np = X_res.values\n",
    "X_valid_np = X_valid.values\n",
    "X_test_np = X_test.values\n",
    "y_train_np = y_res.values\n",
    "y_valid_np = y_valid.values\n",
    "y_test_np = y_test.values\n",
    "\n",
    "X_train_tensor = torch.tensor(X_train_np, dtype=torch.float32).to(device)\n",
    "X_valid_tensor = torch.tensor(X_valid_np, dtype=torch.float32).to(device)\n",
    "X_test_tensor = torch.tensor(X_test_np, dtype=torch.float32).to(device)\n",
    "y_train_tensor = torch.tensor(y_train_np, dtype=torch.float32).unsqueeze(1).to(device)\n",
    "y_valid_tensor = torch.tensor(y_valid_np, dtype=torch.float32).unsqueeze(1).to(device)\n",
    "y_test_tensor = torch.tensor(y_test_np, dtype=torch.float32).unsqueeze(1).to(device)"
   ]
  },
  {
   "cell_type": "code",
   "execution_count": null,
   "metadata": {},
   "outputs": [],
   "source": [
    "from torch_geometric.nn import GCNConv, global_mean_pool\n",
    "import torch.nn.functional as F\n",
    "\n",
    "class GNN(torch.nn.Module):\n",
    "    def __init__(self, input_dim, output_dim):\n",
    "        super(GNN, self).__init__()\n",
    "        self.conv1 = GCNConv(input_dim, 16)\n",
    "        self.conv2 = GCNConv(16, 32)\n",
    "        self.out = torch.nn.Linear(32, output_dim)\n",
    "\n",
    "    def forward(self, data):\n",
    "        x, edge_index = data.x, data.edge_index\n",
    "        \n",
    "        x = F.relu(self.conv1(x, edge_index))\n",
    "        x = F.dropout(x, training=self.training)\n",
    "        x = F.relu(self.conv2(x, edge_index))\n",
    "        \n",
    "        # Global mean pooling\n",
    "        x = global_mean_pool(x, batch=data.batch)  # if batch is None, this line can be omitted\n",
    "        \n",
    "        x = F.dropout(x, training=self.training)\n",
    "        x = self.out(x)\n",
    "        \n",
    "        return F.log_softmax(x, dim=1)\n",
    "\n",
    "\n",
    "device = torch.device('cuda' if torch.cuda.is_available() else 'cpu')\n",
    "model = GNN(input_dim=X_res.shape[1], output_dim=2).to(device)\n",
    "optimizer = torch.optim.Adam(model.parameters(), lr=0.01)\n",
    "criterion = torch.nn.CrossEntropyLoss()"
   ]
  },
  {
   "cell_type": "code",
   "execution_count": null,
   "metadata": {},
   "outputs": [],
   "source": [
    "def train():\n",
    "    model.train()\n",
    "    total_loss = 0\n",
    "    for data in DataLoader(train_data, batch_size=32, shuffle=True):  # DataLoader usage\n",
    "        data = data.to(device)\n",
    "        optimizer.zero_grad()\n",
    "        output = model(data.x, data.edge_index)\n",
    "        loss = criterion(output, data.y)\n",
    "        loss.backward()\n",
    "        optimizer.step()\n",
    "        total_loss += loss.item()\n",
    "    return total_loss / len(train_data)"
   ]
  },
  {
   "cell_type": "code",
   "execution_count": null,
   "metadata": {},
   "outputs": [],
   "source": [
    "def evaluate(data):\n",
    "    model.eval()\n",
    "    correct = 0\n",
    "    predictions, targets = [], []\n",
    "    with torch.no_grad():\n",
    "        for data in DataLoader(data, batch_size=32):  # For large datasets\n",
    "            data = data.to(device)\n",
    "            output = model(data.x, data.edge_index)\n",
    "            pred = output.argmax(dim=1)\n",
    "            correct += (pred == data.y).sum().item()\n",
    "            predictions.extend(pred.tolist())\n",
    "            targets.extend(data.y.tolist())\n",
    "    accuracy = correct / len(data.dataset)\n",
    "    precision = precision_score(targets, predictions, average='weighted')\n",
    "    recall = recall_score(targets, predictions, average='weighted')\n",
    "    f1 = f1_score(targets, predictions, average='weighted')\n",
    "    return accuracy, precision, recall, f1"
   ]
  },
  {
   "cell_type": "code",
   "execution_count": null,
   "metadata": {},
   "outputs": [],
   "source": [
    "num_epochs = 100\n",
    "for epoch in range(num_epochs):\n",
    "    loss = train()\n",
    "    train_metrics = evaluate(train_data)\n",
    "    valid_metrics = evaluate(valid_data)\n",
    "    print(f'Epoch: {epoch+1}, Loss: {loss:.4f}, Train Acc: {train_metrics[0]:.4f}, Valid Acc: {valid_metrics[0]:.4f}, '\n",
    "          f'Train Precision: {train_metrics[1]:.4f}, Train Recall: {train_metrics[2]:.4f}, Train F1: {train_metrics[3]:.4f}, '\n",
    "          f'Valid Precision: {valid_metrics[1]:.4f}, Valid Recall: {valid_metrics[2]:.4f}, Valid F1: {valid_metrics[3]:.4f}')"
   ]
  }
 ],
 "metadata": {
  "language_info": {
   "name": "python"
  }
 },
 "nbformat": 4,
 "nbformat_minor": 2
}
